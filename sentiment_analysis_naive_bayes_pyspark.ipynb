{
 "cells": [
  {
   "cell_type": "code",
   "execution_count": 1,
   "metadata": {},
   "outputs": [],
   "source": [
    "import findspark\n",
    "\n",
    "findspark.init()"
   ]
  },
  {
   "cell_type": "code",
   "execution_count": 2,
   "metadata": {},
   "outputs": [],
   "source": [
    "from pyspark.sql import SparkSession\n",
    "\n",
    "spark = SparkSession.builder.getOrCreate()"
   ]
  },
  {
   "cell_type": "code",
   "execution_count": 3,
   "metadata": {},
   "outputs": [],
   "source": [
    "import pyspark\n",
    "from pyspark.mllib.feature import HashingTF\n",
    "# from pyspark.ml.feature import HashingTF, IDF ,Tokenizer\n",
    "from pyspark.mllib.feature import IDF\n",
    "from pyspark.mllib.classification import NaiveBayes, NaiveBayesModel\n",
    "from pyspark.mllib.linalg import Vectors\n",
    "from pyspark.mllib.regression import LabeledPoint\n",
    "from pyspark.mllib.classification import LogisticRegressionWithSGD, LogisticRegressionModel\n",
    "from pyspark.mllib.tree import DecisionTree, DecisionTreeModel\n",
    "from pyspark.mllib.evaluation import BinaryClassificationMetrics\n",
    "from pyspark.mllib.evaluation import MulticlassMetrics\n",
    "from pyspark.mllib.feature import ChiSqSelector\n",
    "import matplotlib.pyplot as plt; plt.rcdefaults()\n",
    "import numpy as np\n",
    "import os, tempfile\n",
    "import csv\n",
    "import string\n",
    "import random\n",
    "#import modules\n",
    "from pyspark.sql.types import *\n",
    "from pyspark.sql.functions import *\n",
    "from pyspark.ml.classification import LogisticRegression\n",
    "from pyspark.ml.feature import Tokenizer, StopWordsRemover"
   ]
  },
  {
   "cell_type": "code",
   "execution_count": 4,
   "metadata": {},
   "outputs": [],
   "source": [
    "from pyspark import SparkContext\n",
    "sc =SparkContext.getOrCreate()"
   ]
  },
  {
   "cell_type": "code",
   "execution_count": 5,
   "metadata": {},
   "outputs": [],
   "source": [
    "# logFile = \"file:///c:/Users/fazal/Desktop/Uni/project/dataset/twitter-airline-sentiment/Tweets\"  \n",
    "df = spark.read.csv('file:///c:/Users/fazal/Desktop/Uni/project/dataset/twitter-airline-sentiment/Tweets.csv',header=True)"
   ]
  },
  {
   "cell_type": "code",
   "execution_count": 6,
   "metadata": {},
   "outputs": [
    {
     "name": "stdout",
     "output_type": "stream",
     "text": [
      "root\n",
      " |-- tweet_id: string (nullable = true)\n",
      " |-- airline_sentiment: string (nullable = true)\n",
      " |-- airline_sentiment_confidence: string (nullable = true)\n",
      " |-- negativereason: string (nullable = true)\n",
      " |-- negativereason_confidence: string (nullable = true)\n",
      " |-- airline: string (nullable = true)\n",
      " |-- airline_sentiment_gold: string (nullable = true)\n",
      " |-- name: string (nullable = true)\n",
      " |-- negativereason_gold: string (nullable = true)\n",
      " |-- retweet_count: string (nullable = true)\n",
      " |-- text: string (nullable = true)\n",
      " |-- tweet_coord: string (nullable = true)\n",
      " |-- tweet_created: string (nullable = true)\n",
      " |-- tweet_location: string (nullable = true)\n",
      " |-- user_timezone: string (nullable = true)\n",
      "\n",
      "root\n",
      " |-- tweet_id: string (nullable = true)\n",
      " |-- airline_sentiment: string (nullable = true)\n",
      " |-- airline_sentiment_confidence: string (nullable = true)\n",
      " |-- negativereason: string (nullable = true)\n",
      " |-- negativereason_confidence: string (nullable = true)\n",
      " |-- airline: string (nullable = true)\n",
      " |-- airline_sentiment_gold: string (nullable = true)\n",
      " |-- name: string (nullable = true)\n",
      " |-- negativereason_gold: string (nullable = true)\n",
      " |-- retweet_count: string (nullable = true)\n",
      " |-- text: string (nullable = true)\n",
      " |-- tweet_coord: string (nullable = true)\n",
      " |-- tweet_created: string (nullable = true)\n",
      " |-- tweet_location: string (nullable = true)\n",
      " |-- user_timezone: string (nullable = true)\n",
      "\n",
      "+------------------+---------+----------------------------+--------------+-------------------------+--------------+----------------------+----------+-------------------+-------------+----------------------------------------------------------------------------------------------------------------------------------+-----------+-------------------------+--------------+--------------------------+\n",
      "|tweet_id          |sentiment|airline_sentiment_confidence|negativereason|negativereason_confidence|airline       |airline_sentiment_gold|name      |negativereason_gold|retweet_count|text                                                                                                                              |tweet_coord|tweet_created            |tweet_location|user_timezone             |\n",
      "+------------------+---------+----------------------------+--------------+-------------------------+--------------+----------------------+----------+-------------------+-------------+----------------------------------------------------------------------------------------------------------------------------------+-----------+-------------------------+--------------+--------------------------+\n",
      "|570306133677760513|neutral  |1.0                         |null          |null                     |Virgin America|null                  |cairdin   |null               |0            |@VirginAmerica What @dhepburn said.                                                                                               |null       |2015-02-24 11:35:52 -0800|null          |Eastern Time (US & Canada)|\n",
      "|570301130888122368|positive |0.3486                      |null          |0.0                      |Virgin America|null                  |jnardino  |null               |0            |@VirginAmerica plus you've added commercials to the experience... tacky.                                                          |null       |2015-02-24 11:15:59 -0800|null          |Pacific Time (US & Canada)|\n",
      "|570301083672813571|neutral  |0.6837                      |null          |null                     |Virgin America|null                  |yvonnalynn|null               |0            |@VirginAmerica I didn't today... Must mean I need to take another trip!                                                           |null       |2015-02-24 11:15:48 -0800|Lets Play     |Central Time (US & Canada)|\n",
      "|570301031407624196|negative |1.0                         |Bad Flight    |0.7033                   |Virgin America|null                  |jnardino  |null               |0            |\"@VirginAmerica it's really aggressive to blast obnoxious \"\"entertainment\"\" in your guests' faces &amp; they have little recourse\"|null       |2015-02-24 11:15:36 -0800|null          |Pacific Time (US & Canada)|\n",
      "|570300817074462722|negative |1.0                         |Can't Tell    |1.0                      |Virgin America|null                  |jnardino  |null               |0            |@VirginAmerica and it's a really big bad thing about it                                                                           |null       |2015-02-24 11:14:45 -0800|null          |Pacific Time (US & Canada)|\n",
      "+------------------+---------+----------------------------+--------------+-------------------------+--------------+----------------------+----------+-------------------+-------------+----------------------------------------------------------------------------------------------------------------------------------+-----------+-------------------------+--------------+--------------------------+\n",
      "only showing top 5 rows\n",
      "\n",
      "+---------+--------------------+\n",
      "|sentiment|                text|\n",
      "+---------+--------------------+\n",
      "|  neutral|@VirginAmerica Wh...|\n",
      "| positive|@VirginAmerica pl...|\n",
      "|  neutral|@VirginAmerica I ...|\n",
      "| negative|\"@VirginAmerica i...|\n",
      "| negative|@VirginAmerica an...|\n",
      "| negative|@VirginAmerica se...|\n",
      "|     null|                null|\n",
      "| positive|@VirginAmerica ye...|\n",
      "|  neutral|@VirginAmerica Re...|\n",
      "| positive|@virginamerica We...|\n",
      "| positive|@VirginAmerica it...|\n",
      "|  neutral|@VirginAmerica di...|\n",
      "| positive|@VirginAmerica I ...|\n",
      "| positive|@VirginAmerica Th...|\n",
      "| positive|@VirginAmerica @v...|\n",
      "| positive|@VirginAmerica Th...|\n",
      "| negative|@VirginAmerica SF...|\n",
      "| positive|@VirginAmerica So...|\n",
      "| negative|@VirginAmerica  I...|\n",
      "| positive|I ❤️ flying @Virg...|\n",
      "| positive|@VirginAmerica yo...|\n",
      "| negative|@VirginAmerica wh...|\n",
      "| positive|@VirginAmerica I ...|\n",
      "| positive|@VirginAmerica I ...|\n",
      "|  neutral|@VirginAmerica wi...|\n",
      "| negative|@VirginAmerica yo...|\n",
      "| negative|@VirginAmerica st...|\n",
      "| negative|@VirginAmerica Wh...|\n",
      "|  neutral|@VirginAmerica do...|\n",
      "| negative|@VirginAmerica am...|\n",
      "|  neutral|@VirginAmerica LA...|\n",
      "| negative|@VirginAmerica hi...|\n",
      "|  neutral|@VirginAmerica Ar...|\n",
      "| negative|@VirginAmerica he...|\n",
      "| negative|@VirginAmerica aw...|\n",
      "| positive|@VirginAmerica th...|\n",
      "|  neutral|Nice RT @VirginAm...|\n",
      "| positive|@VirginAmerica Mo...|\n",
      "| positive|@VirginAmerica @f...|\n",
      "|  neutral|@VirginAmerica wh...|\n",
      "| negative|@VirginAmerica Yo...|\n",
      "| positive|@VirginAmerica Vi...|\n",
      "| negative|@VirginAmerica He...|\n",
      "|  neutral|@VirginAmerica pl...|\n",
      "|  neutral|@VirginAmerica I ...|\n",
      "|  neutral|@VirginAmerica ar...|\n",
      "| positive|@VirginAmerica I'...|\n",
      "|  neutral|@VirginAmerica  D...|\n",
      "| positive|@VirginAmerica wo...|\n",
      "|  neutral|@VirginAmerica @l...|\n",
      "+---------+--------------------+\n",
      "only showing top 50 rows\n",
      "\n"
     ]
    }
   ],
   "source": [
    "df.printSchema()\n",
    "df_renamed=df.withColumnRenamed(\"airline_sentiment\",\"sentiment\")\n",
    "df.printSchema()\n",
    "df_renamed.show(5, truncate = False)\n",
    "df1=df_renamed.select('sentiment','text')\n",
    "df1.show(50)"
   ]
  },
  {
   "cell_type": "code",
   "execution_count": 7,
   "metadata": {},
   "outputs": [
    {
     "name": "stdout",
     "output_type": "stream",
     "text": [
      "+---------+-----+\n",
      "|sentiment|count|\n",
      "+---------+-----+\n",
      "| positive| 2363|\n",
      "|  neutral| 3099|\n",
      "| negative| 9178|\n",
      "+---------+-----+\n",
      "\n",
      "+---------+--------------------+\n",
      "|sentiment|                text|\n",
      "+---------+--------------------+\n",
      "|  neutral|@VirginAmerica Wh...|\n",
      "| positive|@VirginAmerica pl...|\n",
      "|  neutral|@VirginAmerica I ...|\n",
      "| negative|\"@VirginAmerica i...|\n",
      "| negative|@VirginAmerica an...|\n",
      "| negative|@VirginAmerica se...|\n",
      "| positive|@VirginAmerica ye...|\n",
      "|  neutral|@VirginAmerica Re...|\n",
      "| positive|@virginamerica We...|\n",
      "| positive|@VirginAmerica it...|\n",
      "|  neutral|@VirginAmerica di...|\n",
      "| positive|@VirginAmerica I ...|\n",
      "| positive|@VirginAmerica Th...|\n",
      "| positive|@VirginAmerica @v...|\n",
      "| positive|@VirginAmerica Th...|\n",
      "| negative|@VirginAmerica SF...|\n",
      "| positive|@VirginAmerica So...|\n",
      "| negative|@VirginAmerica  I...|\n",
      "| positive|I ❤️ flying @Virg...|\n",
      "| positive|@VirginAmerica yo...|\n",
      "+---------+--------------------+\n",
      "only showing top 20 rows\n",
      "\n"
     ]
    }
   ],
   "source": [
    "# only show tweets with neutral and positive and negative sentiment and remove the others\n",
    "df_filtered=df1.filter((df1['sentiment']=='positive') | (df1['sentiment']=='negative')| (df1['sentiment']=='neutral') )\n",
    "numTransactionEachSentiment = df_filtered.groupBy(\"sentiment\").count()\n",
    "numTransactionEachSentiment.show(5)\n",
    "df_filtered.show(20)"
   ]
  },
  {
   "cell_type": "code",
   "execution_count": 8,
   "metadata": {
    "scrolled": true
   },
   "outputs": [
    {
     "name": "stdout",
     "output_type": "stream",
     "text": [
      "+---------+--------------------+\n",
      "|sentiment|                text|\n",
      "+---------+--------------------+\n",
      "| positive|@united just want...|\n",
      "| negative|@united Thanks fo...|\n",
      "| negative|@united Yo yo yo ...|\n",
      "+---------+--------------------+\n",
      "only showing top 3 rows\n",
      "\n"
     ]
    }
   ],
   "source": [
    "# drop duplicated data\n",
    "df_dropped_duplicated=df_filtered.dropDuplicates()\n",
    "df_dropped_duplicated.show(3)"
   ]
  },
  {
   "cell_type": "code",
   "execution_count": 9,
   "metadata": {},
   "outputs": [
    {
     "name": "stdout",
     "output_type": "stream",
     "text": [
      "+---------+--------------------+\n",
      "|sentiment|                text|\n",
      "+---------+--------------------+\n",
      "| positive|@united just want...|\n",
      "| negative|@united thanks fo...|\n",
      "| negative|@united yo yo yo ...|\n",
      "| negative|@united day 3 of ...|\n",
      "|  neutral|“@united: @rikrik...|\n",
      "+---------+--------------------+\n",
      "only showing top 5 rows\n",
      "\n"
     ]
    }
   ],
   "source": [
    "########## convert column to lower case in pyspark\n",
    "from pyspark.sql.functions import lower, col\n",
    "df_lower_case=df_dropped_duplicated.select(\"sentiment\", (lower(col('text'))).alias('text'))\n",
    "df_lower_case.show(5)\n",
    "# df2=df_lower_case.select('sentiment',' lower(text)')\n",
    "# df2.show(5)"
   ]
  },
  {
   "cell_type": "code",
   "execution_count": 10,
   "metadata": {},
   "outputs": [
    {
     "name": "stdout",
     "output_type": "stream",
     "text": [
      "Training data rows: 746 ; Testing data rows: 142\n"
     ]
    }
   ],
   "source": [
    "#divide data, 70% for training, 30% for testing\n",
    "dividedData = df_lower_case.randomSplit([0.05, 0.01,0.94]) \n",
    "trainingData = dividedData[0] #index 0 = data training\n",
    "testingData = dividedData[1] #index 1 = data testing\n",
    "extraForNow = dividedData[2] #index 1 = data testing\n",
    "train_rows = trainingData.count()\n",
    "test_rows = testingData.count()\n",
    "print (\"Training data rows:\", train_rows, \"; Testing data rows:\", test_rows)"
   ]
  },
  {
   "cell_type": "code",
   "execution_count": 11,
   "metadata": {},
   "outputs": [
    {
     "name": "stdout",
     "output_type": "stream",
     "text": [
      "+---------+-------------------------------------------------------------------------------------------------------------------------------------------+--------------------------------------------------------------------------------------------------------------------------------------------------------------------+\n",
      "|sentiment|text                                                                                                                                       |SentimentWords                                                                                                                                                      |\n",
      "+---------+-------------------------------------------------------------------------------------------------------------------------------------------+--------------------------------------------------------------------------------------------------------------------------------------------------------------------+\n",
      "|negative |@united 777 from sfo to hnl with zero entertainment systems???!!!#youareonyourown                                                          |[@united, 777, from, sfo, to, hnl, with, zero, entertainment, systems???!!!#youareonyourown]                                                                        |\n",
      "|negative |@usairways flight 614 keeps telling a few more mins to take off its been an hour. first time with you not the best #lies #brokenpromises   |[@usairways, flight, 614, keeps, telling, a, few, more, mins, to, take, off, its, been, an, hour., first, time, with, you, not, the, best, #lies, #brokenpromises]  |\n",
      "|negative |@united you had us reboard without the captain.  so now we'll be sitting in here for another 20+ min? http://t.co/eerekdf9fq               |[@united, you, had, us, reboard, without, the, captain., , so, now, we'll, be, sitting, in, here, for, another, 20+, min?, http://t.co/eerekdf9fq]                  |\n",
      "|neutral  |@united i have a lh return business ticket from den to fra.if i fly domestic with you,bag can be checked through to fra,no need to claim?  |[@united, i, have, a, lh, return, business, ticket, from, den, to, fra.if, i, fly, domestic, with, you,bag, can, be, checked, through, to, fra,no, need, to, claim?]|\n",
      "|positive |@jetblue flight booking problems flights for a dc visit for easter weekend started difficult but ended well with you guys! big fan here. :)|[@jetblue, flight, booking, problems, flights, for, a, dc, visit, for, easter, weekend, started, difficult, but, ended, well, with, you, guys!, big, fan, here., :)]|\n",
      "+---------+-------------------------------------------------------------------------------------------------------------------------------------------+--------------------------------------------------------------------------------------------------------------------------------------------------------------------+\n",
      "only showing top 5 rows\n",
      "\n",
      "+---------+---------------------------------------------------------------------------------------------------------------------------------------+-----------------------------------------------------------------------------------------------------------------------------------------------------------------+\n",
      "|sentiment|text                                                                                                                                   |SentimentWords                                                                                                                                                   |\n",
      "+---------+---------------------------------------------------------------------------------------------------------------------------------------+-----------------------------------------------------------------------------------------------------------------------------------------------------------------+\n",
      "|negative |@southwestair loses baggage a day ago and still has no idea or interest in finding it? all items for new job in that bag! unacceptable.|[@southwestair, loses, baggage, a, day, ago, and, still, has, no, idea, or, interest, in, finding, it?, all, items, for, new, job, in, that, bag!, unacceptable.]|\n",
      "|neutral  |@usairways is it your practice to give 1st class seats to us air employees before giving them to chairmans customers sitting in coach? |[@usairways, is, it, your, practice, to, give, 1st, class, seats, to, us, air, employees, before, giving, them, to, chairmans, customers, sitting, in, coach?]   |\n",
      "|negative |“@usairways: @ch_mom please reach out to our crewmember for assistance. our apologies for the long wait.” #generic                     |[“@usairways:, @ch_mom, please, reach, out, to, our, crewmember, for, assistance., our, apologies, for, the, long, wait.”, #generic]                             |\n",
      "|neutral  |@usairways you should update your passbook passes with any gate changes.                                                               |[@usairways, you, should, update, your, passbook, passes, with, any, gate, changes.]                                                                             |\n",
      "|positive |@usairways thanks! it's hectic for everyone but their actions don't represent the company well imo                                     |[@usairways, thanks!, it's, hectic, for, everyone, but, their, actions, don't, represent, the, company, well, imo]                                               |\n",
      "+---------+---------------------------------------------------------------------------------------------------------------------------------------+-----------------------------------------------------------------------------------------------------------------------------------------------------------------+\n",
      "only showing top 5 rows\n",
      "\n"
     ]
    }
   ],
   "source": [
    "#seperate words\n",
    "tokenizer = Tokenizer(inputCol=\"text\", outputCol=\"SentimentWords\")\n",
    "tokenizedTrain = tokenizer.transform(trainingData)\n",
    "tokenizedTest = tokenizer.transform(testingData)\n",
    "tokenizedTrain.show(truncate=False, n=5)\n",
    "tokenizedTest.show(truncate=False, n=5)"
   ]
  },
  {
   "cell_type": "code",
   "execution_count": 12,
   "metadata": {},
   "outputs": [
    {
     "name": "stdout",
     "output_type": "stream",
     "text": [
      "+---------+--------------------+--------------------+---------------------+\n",
      "|sentiment|                text|      SentimentWords|SentimentWordsCleaned|\n",
      "+---------+--------------------+--------------------+---------------------+\n",
      "| negative|@united 777 from ...|[@united, 777, fr...| [AT_USER, sfo, hn...|\n",
      "| negative|@usairways flight...|[@usairways, flig...| [AT_USER, flight,...|\n",
      "| negative|@united you had u...|[@united, you, ha...| [AT_USER, us, reb...|\n",
      "|  neutral|@united i have a ...|[@united, i, have...| [AT_USER, lh, ret...|\n",
      "| positive|@jetblue flight b...|[@jetblue, flight...| [AT_USER, flight,...|\n",
      "|  neutral|@united i have re...|[@united, i, have...| [AT_USER, request...|\n",
      "| positive|@southwestair you...|[@southwestair, y...| [AT_USER, know, w...|\n",
      "| negative|@virginamerica sh...|[@virginamerica, ...| [AT_USER, shame, ...|\n",
      "|  neutral|@united for our b...|[@united, for, ou...| [AT_USER, birthda...|\n",
      "| negative|\"@southwestair co...|[\"@southwestair, ...| [AT_USER, cool, p...|\n",
      "+---------+--------------------+--------------------+---------------------+\n",
      "only showing top 10 rows\n",
      "\n",
      "+---------+--------------------+--------------------+---------------------+\n",
      "|sentiment|                text|      SentimentWords|SentimentWordsCleaned|\n",
      "+---------+--------------------+--------------------+---------------------+\n",
      "| negative|@southwestair los...|[@southwestair, l...| [AT_USER, loses, ...|\n",
      "|  neutral|@usairways is it ...|[@usairways, is, ...| [AT_USER, practic...|\n",
      "| negative|“@usairways: @ch_...|[“@usairways:, @c...| [AT_USER, AT_USER...|\n",
      "|  neutral|@usairways you sh...|[@usairways, you,...| [AT_USER, update,...|\n",
      "| positive|@usairways thanks...|[@usairways, than...| [AT_USER, thanks,...|\n",
      "| negative|@jetblue also not...|[@jetblue, also, ...| [AT_USER, also, f...|\n",
      "| negative|@united how do yo...|[@united, how, do...| [AT_USER, log, wi...|\n",
      "| negative|@southwestair   y...|[@southwestair, ,...| [AT_USER, yes, da...|\n",
      "| negative|@jetblue after ap...|[@jetblue, after,...| [AT_USER, applyin...|\n",
      "|  neutral|@usairways can yo...|[@usairways, can,...| [AT_USER, help, c...|\n",
      "+---------+--------------------+--------------------+---------------------+\n",
      "only showing top 10 rows\n",
      "\n"
     ]
    }
   ],
   "source": [
    "# Removing Stop words\n",
    "def remove_values_from_list(the_list, val):\n",
    "#     print(val)\n",
    "#     if(val == 'i'):\n",
    "#         return [value for value in the_list if value != 'i']\n",
    "    return [value for value in the_list if value != val and value != 'i']\n",
    "\n",
    "#clean data and remove stop words\n",
    "stop=['i','me', 'my', 'myself', 'we', 'our', 'ours', 'ourselves', 'you', 'your', 'yours', 'yourself', 'yourselves', 'he', 'him', 'his', 'himself', 'she', 'her', 'hers', 'herself', 'it', 'its', 'itself', 'they', 'them', 'their', 'theirs', 'themselves', 'what', 'which', 'who', 'whom', 'this', 'that', 'these', 'those', 'am', 'is', 'are', 'was', 'were', 'be', 'been', 'being', 'have', 'has', 'had', 'having', 'do', 'does', 'did', 'doing', 'a', 'an', 'the', 'and', 'but', 'if', 'or', 'because', 'as', 'until', 'while', 'of', 'at', 'by', 'for', 'with', 'about', 'against', 'between', 'into', 'through', 'during', 'before', 'after', 'above', 'below', 'to', 'from', 'up', 'down', 'in', 'out', 'on', 'off', 'over', 'under', 'again', 'further', 'then', 'once', 'here', 'there', 'when', 'where', 'why', 'how', 'all', 'any', 'both', 'each', 'few', 'more', 'most', 'other', 'some', 'such', 'no', 'nor', 'not', 'only', 'own', 'same', 'so', 'than', 'too', 'very', 's', 't', 'can', 'will', 'just', 'don', 'should', 'now']\n",
    "row=tokenizedTrain.first()\n",
    "# print(row.SentimentWords[0][5])\n",
    "# for i in range(0,len(row.SentimentWords)):\n",
    "#     print(row.SentimentWords[i])\n",
    "import pyspark.sql.functions as F\n",
    "from pyspark.sql.types import *\n",
    "def cleanText(SentimentWords):\n",
    "    s=SentimentWords\n",
    "    for w in range(0,len(SentimentWords)):\n",
    "#         s[i]='a'\n",
    "        if('@' in SentimentWords[w]):\n",
    "            s[w]='AT_USER'\n",
    "        if('www.' in SentimentWords[w]):\n",
    "            s[w]='URL'\n",
    "        if('http://' in SentimentWords[w]):\n",
    "            s[w]='URL'\n",
    "        if('https://' in SentimentWords[w]):\n",
    "            s[w]='URL'\n",
    "        for i in range(0,len(SentimentWords[w])):\n",
    "            flag=0\n",
    "            if len(SentimentWords[w])>i+2 and SentimentWords[w][i]==SentimentWords[w][i+1] and SentimentWords[w][i]==SentimentWords[w][i+2]:\n",
    "                for j in range(i+2,len(SentimentWords[w])):\n",
    "                    if SentimentWords[w][i]==SentimentWords[w][j]:\n",
    "                        flag=1\n",
    "                        if len(SentimentWords[w])>j+1 and SentimentWords[w][i]!=SentimentWords[w][j+1]:\n",
    "                            break\n",
    "                    if j==(len(SentimentWords[w]))-1 and SentimentWords[w][i]==SentimentWords[w][j]:\n",
    "                        flag=1\n",
    "                        break\n",
    "                if flag==1:\n",
    "                    s[w]=SentimentWords[w].replace(SentimentWords[w][i:j+1],SentimentWords[w][i])\n",
    "        if (SentimentWords[w]!='' and SentimentWords[w][0].isdigit()):\n",
    "            s[w]=''\n",
    "            \n",
    "#     s=[]      \n",
    "#     s.append('c')\n",
    "    for i in range(0,len(stop)):\n",
    "        if stop[i] in SentimentWords:\n",
    "#             s.append(stop[i])\n",
    "            s = remove_values_from_list(s, stop[i])\n",
    "    s=[word.strip(string.punctuation) for word in s]\n",
    "    while '' in s:\n",
    "        s.remove('')\n",
    "    return s\n",
    "    \n",
    "    \n",
    "#convert to a UDF Function by passing in the function and return type of function\n",
    "cleanTextUDF = F.udf(cleanText,ArrayType(StringType()))\n",
    "trainCleaned = tokenizedTrain.withColumn(\"SentimentWordsCleaned\", cleanTextUDF('SentimentWords'))\n",
    "testCleaned = tokenizedTest.withColumn(\"SentimentWordsCleaned\", cleanTextUDF('SentimentWords'))\n",
    "# p=trainCleaned.randomSplit(weights=[0.1, 0.1, 0.1, 0.1, 0.1, 0.1, 0.1, 0.1, 0.1, 0.1], seed=1)\n",
    "# CasesWithHighLow=CasesWithHighLow.sample(frac=1).reset_index(drop=True)\n",
    "trainCleaned.show(10)\n",
    "testCleaned.show(10)"
   ]
  },
  {
   "cell_type": "code",
   "execution_count": 13,
   "metadata": {},
   "outputs": [
    {
     "name": "stdout",
     "output_type": "stream",
     "text": [
      "+---------+--------------------+--------------------+---------------------+-----+\n",
      "|sentiment|                text|      SentimentWords|SentimentWordsCleaned|label|\n",
      "+---------+--------------------+--------------------+---------------------+-----+\n",
      "| negative|@united 777 from ...|[@united, 777, fr...| [AT_USER, sfo, hn...|    0|\n",
      "| negative|@usairways flight...|[@usairways, flig...| [AT_USER, flight,...|    0|\n",
      "| negative|@united you had u...|[@united, you, ha...| [AT_USER, us, reb...|    0|\n",
      "|  neutral|@united i have a ...|[@united, i, have...| [AT_USER, lh, ret...|    1|\n",
      "| positive|@jetblue flight b...|[@jetblue, flight...| [AT_USER, flight,...|    2|\n",
      "+---------+--------------------+--------------------+---------------------+-----+\n",
      "only showing top 5 rows\n",
      "\n",
      "+---------+--------------------+--------------------+---------------------+-----+\n",
      "|sentiment|                text|      SentimentWords|SentimentWordsCleaned|label|\n",
      "+---------+--------------------+--------------------+---------------------+-----+\n",
      "| negative|@southwestair los...|[@southwestair, l...| [AT_USER, loses, ...|    0|\n",
      "|  neutral|@usairways is it ...|[@usairways, is, ...| [AT_USER, practic...|    1|\n",
      "| negative|“@usairways: @ch_...|[“@usairways:, @c...| [AT_USER, AT_USER...|    0|\n",
      "|  neutral|@usairways you sh...|[@usairways, you,...| [AT_USER, update,...|    1|\n",
      "| positive|@usairways thanks...|[@usairways, than...| [AT_USER, thanks,...|    2|\n",
      "+---------+--------------------+--------------------+---------------------+-----+\n",
      "only showing top 5 rows\n",
      "\n"
     ]
    }
   ],
   "source": [
    "from pyspark.sql import functions as f\n",
    "trainCleaned_labelAdded=trainCleaned.withColumn('label', f.when(f.col('sentiment') == \"negative\", 0).otherwise(when(f.col('sentiment') == \"positive\", 2).otherwise(1)))\n",
    "testCleaned_labelAdded=testCleaned.withColumn('label', f.when(f.col('sentiment') == \"negative\", 0).otherwise(when(f.col('sentiment') == \"positive\", 2).otherwise(1)))\n",
    "trainCleaned_labelAdded.show(5)\n",
    "testCleaned_labelAdded.show(5)"
   ]
  },
  {
   "cell_type": "code",
   "execution_count": 14,
   "metadata": {},
   "outputs": [
    {
     "name": "stdout",
     "output_type": "stream",
     "text": [
      "(25000,[4836,5093,7191,8792,12124,19458],[5.517452896464707,0.0,5.229770824012927,4.670155036077504,5.922918004572872,4.824305715904762])\n"
     ]
    }
   ],
   "source": [
    "# #Compute TF\n",
    "# def CompTF(tshuffle_rdd):\n",
    "#     hashingTF = HashingTF(inputCol=\"SentimentWordsCleaned\", outputCol=\"rawFeatures\", numFeatures=25000)\n",
    "#     featurizedData = hashingTF.transform(tshuffle_rdd)\n",
    "#     return featurizedData\n",
    "# #     return tf\n",
    "\n",
    "# def CompTF_withNumFeatures(tshuffle_rdd):\n",
    "#     hashingTF = HashingTF(inputCol=\"SentimentWordsCleaned\", outputCol=\"rawFeatures\", numFeatures=25000)\n",
    "#     featurizedData = hashingTF.transform(tshuffle_rdd)\n",
    "#     return featurizedData\n",
    "# #     return tf\n",
    "\n",
    "# #Compute IDF\n",
    "# def CompIDF(tf):\n",
    "#     tf.cache()\n",
    "#     idf = IDF(inputCol=\"rawFeatures\", outputCol=\"features\")\n",
    "#     idfModel = idf.fit(tf)\n",
    "#     return idfModel\n",
    "\n",
    "# #Compute TFIDF\n",
    "# def CompTFIDF(tf,idf):\n",
    "# #     tfidf = idf.transform(tf)\n",
    "#     rescaledData = idf.transform(tf)\n",
    "#     return rescaledData\n",
    "\n",
    "# #Accuracy of Training data using train.csv itself using NB\n",
    "# tf_train=CompTF(trainCleaned)\n",
    "# idf_train=CompIDF(tf_train)\n",
    "# tfidf_train=CompTFIDF(tf_train,idf_train)\n",
    "# tfidf_train.show(10)\n",
    "\n",
    "\n",
    "#Compute TF\n",
    "def CompTF(tshuffle_rdd):\n",
    "    t_rdd=sc.parallelize([row[3] for row in tshuffle_rdd.collect()])\n",
    "    hashingTF = HashingTF(25000)\n",
    "    tf = hashingTF.transform(t_rdd)\n",
    "    return tf\n",
    "\n",
    "def CompTF_withNumFeatures(tshuffle_rdd):\n",
    "    t_rdd=sc.parallelize([row[3] for row in tshuffle_rdd.collect()])\n",
    "    hashingTF = HashingTF(1500)\n",
    "    tf = hashingTF.transform(t_rdd)\n",
    "    return tf\n",
    "\n",
    "#Compute IDF\n",
    "def CompIDF(tf):\n",
    "    tf.cache()\n",
    "    idf = IDF().fit(tf)\n",
    "    return idf\n",
    "\n",
    "#Compute TFIDF\n",
    "def CompTFIDF(tf,idf):\n",
    "    tfidf = idf.transform(tf)\n",
    "    return tfidf\n",
    "\n",
    "#Accuracy of Training data using train.csv itself using NB\n",
    "rdd_train = trainCleaned_labelAdded.rdd.map(list)\n",
    "rdd_test = testCleaned_labelAdded.rdd.map(list)\n",
    "tf_train=CompTF(rdd_train)\n",
    "idf_train=CompIDF(tf_train)\n",
    "tfidf_train=CompTFIDF(tf_train,idf_train)\n",
    "print(tfidf_train.first())"
   ]
  },
  {
   "cell_type": "code",
   "execution_count": 15,
   "metadata": {},
   "outputs": [
    {
     "name": "stdout",
     "output_type": "stream",
     "text": [
      "(0.0,(25000,[4836,5093,7191,8792,12124,19458],[5.517452896464707,0.0,5.229770824012927,4.670155036077504,5.922918004572872,4.824305715904762]))\n"
     ]
    }
   ],
   "source": [
    "#Feature Extraction\n",
    "def Convert_to_LabeledPoint(labels,features):\n",
    "    training = labels.zip(features).map(lambda x: LabeledPoint(x[0], x[1]))\n",
    "#     training = labels.zip(features)\n",
    "    return training\n",
    "\n",
    "#Feature Extraction for training (train.csv) dataset\n",
    "# rdd = trainCleaned.rdd.map(list)\n",
    "# tfidf_train_rdd = tfidf_train.rdd.map(list)\n",
    "training_NB = Convert_to_LabeledPoint(sc.parallelize([row[4] for row in rdd_train.collect()]),tfidf_train)\n",
    "print(training_NB.first())\n",
    "\n",
    "# from pyspark.sql import functions as f\n",
    "# training_NB=tfidf_train.withColumn('label', f.when(f.col('sentiment') == \"negative\", 0).otherwise(f.when(f.col('sentiment') == \"positive\", 2).otherwise(1)))\n",
    "# training_NB.show(5)"
   ]
  },
  {
   "cell_type": "code",
   "execution_count": 16,
   "metadata": {},
   "outputs": [],
   "source": [
    "#Training - NB\n",
    "def NB_train(training):\n",
    "    model = NaiveBayes.train(training,1.0)\n",
    "    return model\n",
    "\n",
    "#training accuracy for NB ML technique - training with training data\n",
    "model_train_NB=NB_train(training_NB)\n",
    "# print(rdd_train.first())"
   ]
  },
  {
   "cell_type": "code",
   "execution_count": 17,
   "metadata": {},
   "outputs": [
    {
     "name": "stdout",
     "output_type": "stream",
     "text": [
      "TRAINING ACCURACY:-\n",
      "\n",
      "The accuracy for the training dataset tested on the training data itself using NB is 93.96782841823055 %\n",
      "\n",
      "\n"
     ]
    }
   ],
   "source": [
    "#Testing\n",
    "\n",
    "def test(model,labels,features):\n",
    "    labels_and_preds = labels.zip(model.predict(features)).map(\n",
    "                                lambda x: {\"actual\": float(x[0]), \"predicted\": float(x[1])})\n",
    "    acc=100.0*((labels_and_preds.filter(lambda x:x[\"actual\"]==x[\"predicted\"]).count()) / (labels.count()))\n",
    "    return acc\n",
    "\n",
    "#testing NB with training data \n",
    "\n",
    "accuracy_NB=test(model_train_NB,sc.parallelize([row[4] for row in rdd_train.collect()]),tfidf_train)\n",
    "\n",
    "print (\"TRAINING ACCURACY:-\\n\")\n",
    "\n",
    "print(\"The accuracy for the training dataset tested on the training data itself using NB is\",accuracy_NB,\"%\")\n",
    "\n",
    "print (\"\\n\")"
   ]
  },
  {
   "cell_type": "code",
   "execution_count": 19,
   "metadata": {},
   "outputs": [
    {
     "name": "stdout",
     "output_type": "stream",
     "text": [
      "10-FOLD CV ACCURACIES FOR ALL ITERATIONS\n",
      "\n",
      "The accuracy for number 1 kth partition test for 10-fold cross validation for NB is 66.29834254143645 %\n",
      "The accuracy for number 2 kth partition test for 10-fold cross validation for NB is 64.0625 %\n",
      "\n",
      "\n",
      "The average accuracy for NB after 10-fold cross validation is 65.18042127071823 %\n",
      "\n",
      "\n"
     ]
    }
   ],
   "source": [
    "# KFold NB\n",
    "\n",
    "print (\"10-FOLD CV ACCURACIES FOR ALL ITERATIONS\\n\")\n",
    "\n",
    "p=rdd_train.randomSplit(weights=[0.5, 0.5], seed=1)\n",
    "\n",
    "tot_NB_kfold=0\n",
    "NB_kfold_set=[]\n",
    "for i in range(0,len(p)):\n",
    "    test_RDD=p[i]\n",
    "    train_tempRDD=sc.emptyRDD()\n",
    "    for j in range(0,len(p)):\n",
    "        if i!=j:\n",
    "            train_tempRDD=train_tempRDD.union(p[j])\n",
    "    tf_train=CompTF(train_tempRDD)\n",
    "    idf_train=CompIDF(tf_train)\n",
    "    tfidf_train=CompTFIDF(tf_train,idf_train)\n",
    "    training = Convert_to_LabeledPoint(sc.parallelize([row[4] for row in train_tempRDD.collect()]),tfidf_train)\n",
    "    model_train=NB_train(training)\n",
    "    tf_test=CompTF(test_RDD)\n",
    "    tfidf_test=CompTFIDF(tf_test,idf_train)\n",
    "    accuracy=test(model_train,sc.parallelize([row[4] for row in test_RDD.collect()]),tfidf_test)\n",
    "    print (\"The accuracy for number\",i+1,\"kth partition test for 10-fold cross validation for NB is\",accuracy,\"%\")\n",
    "    NB_kfold_set.append(accuracy)\n",
    "    tot_NB_kfold=tot_NB_kfold+accuracy\n",
    "avg_NB_kfold=tot_NB_kfold/len(p)\n",
    "# NB_kfold_best=max(NB_kfold_set)\n",
    "print (\"\\n\")\n",
    "print (\"The average accuracy for NB after 10-fold cross validation is\",avg_NB_kfold,\"%\")\n",
    "print (\"\\n\")\n",
    "# print (\"The highest accuracy for NB after 10-fold cross validation is\",NB_kfold_best,\"%\")\n",
    "# print (\"\\n\")"
   ]
  },
  {
   "cell_type": "code",
   "execution_count": 20,
   "metadata": {},
   "outputs": [],
   "source": [
    "#print (test_shuffle)\n",
    "# tshuff_rdd_test=sc.parallelize(test_shuffle)\n",
    "tf_test=CompTF(rdd_test)\n",
    "tf_train=CompTF(rdd_train)\n",
    "idf_train=CompIDF(tf_train)\n",
    "tfidf_test=CompTFIDF(tf_test,idf_train)"
   ]
  },
  {
   "cell_type": "code",
   "execution_count": 21,
   "metadata": {},
   "outputs": [
    {
     "name": "stdout",
     "output_type": "stream",
     "text": [
      "\n",
      "TEST ACCURACY:-\n",
      "\n",
      "The accuracy of prediction for NB on testing data is 72.53521126760563 %\n"
     ]
    },
    {
     "data": {
      "image/png": "[encoded data removed]",
      "text/plain": [
       "<Figure size 640x480 with 1 Axes>"
      ]
     },
     "metadata": {},
     "output_type": "display_data"
    }
   ],
   "source": [
    "#Final Test\n",
    "\n",
    "def test_final(model,labels,features):\n",
    "    labels_and_preds = labels.zip(model.predict(features)).map(\n",
    "                                lambda x: {\"actual\": float(x[0]), \"predicted\": float(x[1])})\n",
    "    acc=100.0*((labels_and_preds.filter(lambda x:x[\"actual\"]==x[\"predicted\"]).count()) / (labels.count()))\n",
    "    return (labels_and_preds,acc)\n",
    "\n",
    "\n",
    "\n",
    "labels_and_preds_NB,accu_NB = test_final(model_train_NB,sc.parallelize([row[4] for row in rdd_test.collect()]),tfidf_test)\n",
    "metrics2 = BinaryClassificationMetrics(labels_and_preds_NB.map(lambda x: (x[\"predicted\"], x[\"actual\"])))\n",
    "print (\"\\nTEST ACCURACY:-\\n\")\n",
    "print(\"The accuracy of prediction for NB on testing data is\",accu_NB,\"%\")\n",
    "objects = ('Training Accuracy', '10-Fold CV', 'Testing Accuracy')\n",
    "y_pos = np.arange(len(objects))\n",
    "performance = [accuracy_NB,avg_NB_kfold,accu_NB]\n",
    "plt.bar(y_pos, performance, align='center', alpha=0.5)\n",
    "plt.xticks(y_pos, objects)\n",
    "plt.xlabel('Classifications')\n",
    "plt.ylabel('Accuracy')\n",
    "plt.title('Naive Bayes Classifier - Accuracies')\n",
    " \n",
    "plt.show()\n",
    "\n",
    "metrics = MulticlassMetrics(labels_and_preds_NB.map(lambda x: (x[\"predicted\"], x[\"actual\"])))"
   ]
  },
  {
   "cell_type": "code",
   "execution_count": 23,
   "metadata": {},
   "outputs": [
    {
     "name": "stdout",
     "output_type": "stream",
     "text": [
      "\n",
      "Summary Stats_NB\n",
      "\n",
      "Class 0 precision_NB = 0.7459016393442623\n",
      "Class 0 recall_NB = 0.9578947368421052\n",
      "Class 0 F1 Measure_NB = 0.8387096774193549\n",
      "Class 1 precision_NB = 0.7142857142857143\n",
      "Class 1 recall_NB = 0.3225806451612903\n",
      "Class 1 F1 Measure_NB = 0.4444444444444444\n",
      "Class 2 precision_NB = 0.3333333333333333\n",
      "Class 2 recall_NB = 0.125\n",
      "Class 2 F1 Measure_NB = 0.18181818181818182\n",
      "\n",
      "Avg/Weighted recall_NB = 0.7253521126760564\n",
      "Avg/Weighted precision_NB = 0.6925130015063056\n",
      "Avg/Weighted F(1) Score_NB = 0.6786217467725874\n",
      "\n",
      "Confusion matrix_NB=\n",
      "[[91.  3.  1.]\n",
      " [18. 10.  3.]\n",
      " [13.  1.  2.]]\n",
      "\n",
      "\n",
      "Area under ROC_NB = 0.6496080627099664\n"
     ]
    }
   ],
   "source": [
    "# Overall statistics\n",
    "print(\"\\nSummary Stats_NB\\n\")\n",
    "# Statistics by class\n",
    "labels = (sc.parallelize([row[4] for row in rdd_test.collect()])).distinct().collect()\n",
    "for label in sorted(labels):\n",
    "    print(\"Class %s precision_NB = %s\" % (label, metrics.precision(label)))\n",
    "    print(\"Class %s recall_NB = %s\" % (label, metrics.recall(label)))\n",
    "    print(\"Class %s F1 Measure_NB = %s\" % (label, metrics.fMeasure(float(label), beta=1.0)))\n",
    "\n",
    "# Weighted stats\n",
    "print(\"\\nAvg/Weighted recall_NB = %s\" % metrics.weightedRecall)\n",
    "print(\"Avg/Weighted precision_NB = %s\" % metrics.weightedPrecision)\n",
    "print(\"Avg/Weighted F(1) Score_NB = %s\" % metrics.weightedFMeasure())\n",
    "\n",
    "cm=metrics.confusionMatrix().toArray()\n",
    "print(\"\\nConfusion matrix_NB=\")\n",
    "print(cm)\n",
    "print(\"\\n\")\n",
    "metrics2 = BinaryClassificationMetrics(labels_and_preds_NB.map(lambda x: (x[\"predicted\"], x[\"actual\"])))\n",
    "\n",
    "# Area under ROC curve\n",
    "print(\"Area under ROC_NB = %s\" % metrics2.areaUnderROC)"
   ]
  },
  {
   "cell_type": "code",
   "execution_count": null,
   "metadata": {},
   "outputs": [],
   "source": []
  }
 ],
 "metadata": {
  "kernelspec": {
   "display_name": "Python 3",
   "language": "python",
   "name": "python3"
  },
  "language_info": {
   "codemirror_mode": {
    "name": "ipython",
    "version": 3
   },
   "file_extension": ".py",
   "mimetype": "text/x-python",
   "name": "python",
   "nbconvert_exporter": "python",
   "pygments_lexer": "ipython3",
   "version": "3.8.3"
  }
 },
 "nbformat": 4,
 "nbformat_minor": 4
}
